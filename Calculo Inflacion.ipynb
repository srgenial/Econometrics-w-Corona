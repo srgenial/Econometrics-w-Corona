{
 "cells": [
  {
   "cell_type": "markdown",
   "metadata": {},
   "source": [
    "# Inflation Notebook"
   ]
  },
  {
   "cell_type": "markdown",
   "metadata": {},
   "source": [
    "    # Initial Setup\n",
    "Define Libraries (Vars, tseries, forecast)\n",
    "Define route of file\n",
    "Create Object name \"data\" to load information."
   ]
  },
  {
   "cell_type": "code",
   "execution_count": 421,
   "metadata": {
    "scrolled": false
   },
   "outputs": [
    {
     "data": {
      "text/plain": [
       "R version 3.5.1 (2018-07-02)\n",
       "Platform: x86_64-w64-mingw32/x64 (64-bit)\n",
       "Running under: Windows 10 x64 (build 17134)\n",
       "\n",
       "Matrix products: default\n",
       "\n",
       "locale:\n",
       "[1] LC_COLLATE=English_United States.1252 \n",
       "[2] LC_CTYPE=English_United States.1252   \n",
       "[3] LC_MONETARY=English_United States.1252\n",
       "[4] LC_NUMERIC=C                          \n",
       "[5] LC_TIME=English_United States.1252    \n",
       "\n",
       "attached base packages:\n",
       "[1] stats     graphics  grDevices utils     datasets  methods   base     \n",
       "\n",
       "other attached packages:\n",
       " [1] data.table_1.11.4 forecast_8.6      tseries_0.10-46   vars_1.5-3       \n",
       " [5] lmtest_0.9-36     urca_1.3-0        strucchange_1.5-1 sandwich_2.4-0   \n",
       " [9] zoo_1.8-3         MASS_7.3-50      \n",
       "\n",
       "loaded via a namespace (and not attached):\n",
       " [1] pbdZMQ_0.3-3      tidyselect_0.2.4  repr_0.15.0       purrr_0.2.5      \n",
       " [5] lattice_0.20-35   colorspace_1.3-2  htmltools_0.3.6   base64enc_0.1-3  \n",
       " [9] rlang_0.2.1       pillar_1.3.0      glue_1.3.0        TTR_0.23-3       \n",
       "[13] bindrcpp_0.2.2    uuid_0.1-2        plyr_1.8.4        bindr_0.1.1      \n",
       "[17] quantmod_0.4-14   stringr_1.3.1     timeDate_3043.102 munsell_0.5.0    \n",
       "[21] gtable_0.2.0      evaluate_0.11     parallel_3.5.1    curl_3.2         \n",
       "[25] IRdisplay_0.5.0   xts_0.11-0        Rcpp_0.12.18      scales_1.0.0     \n",
       "[29] IRkernel_0.8.12   jsonlite_1.5      fracdiff_1.4-2    ggplot2_3.1.1    \n",
       "[33] digest_0.6.15     stringi_1.2.4     dplyr_0.7.6       grid_3.5.1       \n",
       "[37] quadprog_1.5-5    tools_3.5.1       magrittr_1.5      lazyeval_0.2.1   \n",
       "[41] tibble_1.4.2      crayon_1.3.4      pkgconfig_2.0.1   assertthat_0.2.0 \n",
       "[45] R6_2.2.2          nnet_7.3-12       nlme_3.1-137      compiler_3.5.1   "
      ]
     },
     "metadata": {},
     "output_type": "display_data"
    },
    {
     "data": {
      "text/html": [
       "'C:/Users/srgen/OneDrive/Documentos/Applied Economics/Econometrics/Econometrics II class/Corona EcoII-2/Inflacion'"
      ],
      "text/latex": [
       "'C:/Users/srgen/OneDrive/Documentos/Applied Economics/Econometrics/Econometrics II class/Corona EcoII-2/Inflacion'"
      ],
      "text/markdown": [
       "'C:/Users/srgen/OneDrive/Documentos/Applied Economics/Econometrics/Econometrics II class/Corona EcoII-2/Inflacion'"
      ],
      "text/plain": [
       "[1] \"C:/Users/srgen/OneDrive/Documentos/Applied Economics/Econometrics/Econometrics II class/Corona EcoII-2/Inflacion\""
      ]
     },
     "metadata": {},
     "output_type": "display_data"
    },
    {
     "data": {
      "text/html": [
       "'C:/Users/srgen/OneDrive/Documentos/Applied Economics/Econometrics/Econometrics II class/Corona EcoII-2/Inflacion'"
      ],
      "text/latex": [
       "'C:/Users/srgen/OneDrive/Documentos/Applied Economics/Econometrics/Econometrics II class/Corona EcoII-2/Inflacion'"
      ],
      "text/markdown": [
       "'C:/Users/srgen/OneDrive/Documentos/Applied Economics/Econometrics/Econometrics II class/Corona EcoII-2/Inflacion'"
      ],
      "text/plain": [
       "[1] \"C:/Users/srgen/OneDrive/Documentos/Applied Economics/Econometrics/Econometrics II class/Corona EcoII-2/Inflacion\""
      ]
     },
     "metadata": {},
     "output_type": "display_data"
    },
    {
     "data": {
      "text/html": [
       "'character'"
      ],
      "text/latex": [
       "'character'"
      ],
      "text/markdown": [
       "'character'"
      ],
      "text/plain": [
       "[1] \"character\""
      ]
     },
     "metadata": {},
     "output_type": "display_data"
    },
    {
     "data": {
      "text/html": [
       "4"
      ],
      "text/latex": [
       "4"
      ],
      "text/markdown": [
       "4"
      ],
      "text/plain": [
       "[1] 4"
      ]
     },
     "metadata": {},
     "output_type": "display_data"
    }
   ],
   "source": [
    "# Clear workspace\n",
    "rm(list = ls())\n",
    "sessionInfo()\n",
    "\n",
    "getwd()\n",
    "# Set the working directory\n",
    "setwd(\"C:/Users/srgen/OneDrive/Documentos/Applied Economics/Econometrics/Econometrics II class/Corona EcoII-2/Inflacion\")\n",
    "getwd()\n",
    "\n",
    "libs <- c(\"vars\",\"tseries\",\"forecast\",\"data.table\")\n",
    "class(libs)\n",
    "length(libs)\n",
    "for (i in libs) {\n",
    "  if(!is.element(i,.packages(all.available = TRUE))) {\n",
    "    install.packages(i,repos=\"https://cran.revolutionanalytics.com/\")\n",
    "  }\n",
    "  library(i,character.only = TRUE)\n",
    "}"
   ]
  },
  {
   "cell_type": "markdown",
   "metadata": {},
   "source": [
    "    #Ignor Warning Messages\n",
    "    # Load data\n",
    "The data set is integrated by:\n",
    "1. INPC_anual: The Mexico's National Consumer Price Index to measure countrie's national inflation.\n",
    "2. CETES_28: The Mexican 28 day Federal Treasury Certificates\n",
    "time: from January 2005 to Abril 2019"
   ]
  },
  {
   "cell_type": "code",
   "execution_count": 422,
   "metadata": {
    "scrolled": true
   },
   "outputs": [],
   "source": [
    "path <-  \"C:/Users/srgen/OneDrive/Documentos/Applied Economics/Econometrics/Econometrics II class/Corona EcoII-2/Inflacion/\"\n",
    "inf1 <- read.csv(paste(path, \"Tabla para inflacion 2000-2019.csv\", sep = \"\"), row.names = 1)\n"
   ]
  },
  {
   "cell_type": "markdown",
   "metadata": {},
   "source": [
    "# Time Series Analysis\n",
    "# Model Identification\n",
    "Run correlation to identify relation among variables\n",
    "Plot series to visualize "
   ]
  },
  {
   "cell_type": "code",
   "execution_count": 423,
   "metadata": {
    "scrolled": false
   },
   "outputs": [
    {
     "data": {
      "text/html": [
       "<table>\n",
       "<thead><tr><th></th><th scope=col>INPC_anual</th><th scope=col>CETES_28</th></tr></thead>\n",
       "<tbody>\n",
       "\t<tr><th scope=row>INPC_anual</th><td>1.0000000</td><td>0.7923352</td></tr>\n",
       "\t<tr><th scope=row>CETES_28</th><td>0.7923352</td><td>1.0000000</td></tr>\n",
       "</tbody>\n",
       "</table>\n"
      ],
      "text/latex": [
       "\\begin{tabular}{r|ll}\n",
       "  & INPC\\_anual & CETES\\_28\\\\\n",
       "\\hline\n",
       "\tINPC\\_anual & 1.0000000 & 0.7923352\\\\\n",
       "\tCETES\\_28 & 0.7923352 & 1.0000000\\\\\n",
       "\\end{tabular}\n"
      ],
      "text/markdown": [
       "\n",
       "| <!--/--> | INPC_anual | CETES_28 | \n",
       "|---|---|\n",
       "| INPC_anual | 1.0000000 | 0.7923352 | \n",
       "| CETES_28 | 0.7923352 | 1.0000000 | \n",
       "\n",
       "\n"
      ],
      "text/plain": [
       "           INPC_anual CETES_28 \n",
       "INPC_anual 1.0000000  0.7923352\n",
       "CETES_28   0.7923352  1.0000000"
      ]
     },
     "metadata": {},
     "output_type": "display_data"
    },
    {
     "data": {
      "image/png": "[encoded data removed]",
      "text/plain": [
       "plot without title"
      ]
     },
     "metadata": {},
     "output_type": "display_data"
    },
    {
     "data": {
      "image/png": "[encoded data removed]",
      "text/plain": [
       "plot without title"
      ]
     },
     "metadata": {},
     "output_type": "display_data"
    }
   ],
   "source": [
    "inf1<-ts(inf1, start=c(2000,1), frequency=12)\n",
    "ts.plot(scale(inf1), col=c(2,rep(3,ncol(inf1)-1)), lwd=c(4,rep(2, ncol(inf1)-1)))\n",
    "legend(\"top\", colnames(inf1), col = c(2:3), lty = 1,lwd=c(4,rep(2, ncol(inf1)-1)))\n",
    "cor(inf1)\n",
    "pairs(inf1,col=c(2,rep(3,ncol(inf1)-1)))"
   ]
  },
  {
   "cell_type": "markdown",
   "metadata": {},
   "source": [
    "# Observations\n",
    "From Correlation, 0.79 we can identify a good series to analyze. This was guessed by the economic relation between Treasury Certificates as a response of Banxico to act on inflation stability.\n",
    "From Plots, we can observe some tendency and correlation as well."
   ]
  },
  {
   "cell_type": "markdown",
   "metadata": {},
   "source": [
    "# Stationary and Cointegrated\n",
    "Due to we need the Time Series to be stationary and cointegrated in order to proceed, we must run a Augmented Dickey Fuller Test in order to detect the presence of Unitary Roots."
   ]
  },
  {
   "cell_type": "code",
   "execution_count": 424,
   "metadata": {
    "scrolled": true
   },
   "outputs": [
    {
     "name": "stderr",
     "output_type": "stream",
     "text": [
      "Warning message in adf.test(diff(inf1[, i])):\n",
      "\"p-value smaller than printed p-value\"Warning message in adf.test(diff(inf1[, i])):\n",
      "\"p-value smaller than printed p-value\"Warning message in adf(diff(inf1[, i]), \"none\"):\n",
      "\"p-value smaller than printed p-value\"Warning message in adf(diff(inf1[, i]), \"none\"):\n",
      "\"p-value smaller than printed p-value\""
     ]
    },
    {
     "data": {
      "text/html": [
       "<table>\n",
       "<thead><tr><th></th><th scope=col>l</th><th scope=col>fd</th></tr></thead>\n",
       "<tbody>\n",
       "\t<tr><th scope=row>INPC_anual</th><td>0.05479361</td><td>0.01      </td></tr>\n",
       "\t<tr><th scope=row>CETES_28</th><td>0.40901916</td><td>0.01      </td></tr>\n",
       "</tbody>\n",
       "</table>\n"
      ],
      "text/latex": [
       "\\begin{tabular}{r|ll}\n",
       "  & l & fd\\\\\n",
       "\\hline\n",
       "\tINPC\\_anual & 0.05479361 & 0.01      \\\\\n",
       "\tCETES\\_28 & 0.40901916 & 0.01      \\\\\n",
       "\\end{tabular}\n"
      ],
      "text/markdown": [
       "\n",
       "| <!--/--> | l | fd | \n",
       "|---|---|\n",
       "| INPC_anual | 0.05479361 | 0.01       | \n",
       "| CETES_28 | 0.40901916 | 0.01       | \n",
       "\n",
       "\n"
      ],
      "text/plain": [
       "           l          fd  \n",
       "INPC_anual 0.05479361 0.01\n",
       "CETES_28   0.40901916 0.01"
      ]
     },
     "metadata": {},
     "output_type": "display_data"
    },
    {
     "data": {
      "text/html": [
       "<table>\n",
       "<thead><tr><th></th><th scope=col>lvl</th><th scope=col>fd</th></tr></thead>\n",
       "<tbody>\n",
       "\t<tr><th scope=row>INPC_anual</th><td>0.08364372</td><td>0.01      </td></tr>\n",
       "\t<tr><th scope=row>CETES_28</th><td>0.12449856</td><td>0.01      </td></tr>\n",
       "</tbody>\n",
       "</table>\n"
      ],
      "text/latex": [
       "\\begin{tabular}{r|ll}\n",
       "  & lvl & fd\\\\\n",
       "\\hline\n",
       "\tINPC\\_anual & 0.08364372 & 0.01      \\\\\n",
       "\tCETES\\_28 & 0.12449856 & 0.01      \\\\\n",
       "\\end{tabular}\n"
      ],
      "text/markdown": [
       "\n",
       "| <!--/--> | lvl | fd | \n",
       "|---|---|\n",
       "| INPC_anual | 0.08364372 | 0.01       | \n",
       "| CETES_28 | 0.12449856 | 0.01       | \n",
       "\n",
       "\n"
      ],
      "text/plain": [
       "           lvl        fd  \n",
       "INPC_anual 0.08364372 0.01\n",
       "CETES_28   0.12449856 0.01"
      ]
     },
     "metadata": {},
     "output_type": "display_data"
    }
   ],
   "source": [
    "#ADF test from {tseries} \n",
    "adf.p <- matrix(0, ncol(inf1), 2)\n",
    "rownames(adf.p) <- colnames(inf1)\n",
    "colnames(adf.p) <- c(\"l\", \"fd\")\n",
    "\n",
    "for(i in 1 : ncol(inf1)){\n",
    "  adf.p[i, \"l\"] <- adf.test(inf1[,i])$p.value\n",
    "  adf.p[i, \"fd\"] <- adf.test(diff(inf1[,i]))$p.value\n",
    "}\n",
    "\n",
    "#ADF test from {functions.r} developed by @drCorona \n",
    "path2<- \"C:/Users/srgen/OneDrive/Documentos/Applied Economics/Econometrics/Econometrics II class/Corona EcoII-2/Clase 3 Cointegracion/\"\n",
    "source(paste(path2, \"functions.r\", sep=\"\"))\n",
    "\n",
    "adf_mat<- matrix (0, ncol(inf1),2)\n",
    "rownames(adf_mat)<- colnames(inf1)\n",
    "colnames(adf_mat)<- c(\"lvl\",\"fd\")\n",
    "for(i in 1: ncol(inf1)){\n",
    "  adf_mat[i,\"lvl\"]<-adf(inf1[,i], \"none\")$p.value\n",
    "  adf_mat[i,\"fd\"]<-adf(diff(inf1[,i]), \"none\")$p.value\n",
    "}\n",
    "adf.p\n",
    "adf_mat"
   ]
  },
  {
   "cell_type": "markdown",
   "metadata": {},
   "source": [
    "# Stationary and Cointegrated 2\n",
    "Due to we've seen levels above 0.05, we shall transform the data series into a differentiated inter-annual logarithmic Time Series. The TS will be now called inf1_12 once its anualized\n",
    "\n",
    "We expect levels below the 0.05"
   ]
  },
  {
   "cell_type": "code",
   "execution_count": 425,
   "metadata": {
    "scrolled": true
   },
   "outputs": [
    {
     "name": "stderr",
     "output_type": "stream",
     "text": [
      "Warning message in adf(inf1_12[, i], \"none\"):\n",
      "\"p-value smaller than printed p-value\"Warning message in adf(diff(inf1_12[, i]), \"none\"):\n",
      "\"p-value smaller than printed p-value\"Warning message in adf(inf1_12[, i], \"none\"):\n",
      "\"p-value smaller than printed p-value\"Warning message in adf(diff(inf1_12[, i]), \"none\"):\n",
      "\"p-value smaller than printed p-value\""
     ]
    },
    {
     "data": {
      "text/html": [
       "<table>\n",
       "<thead><tr><th></th><th scope=col>lvl</th><th scope=col>fd</th></tr></thead>\n",
       "<tbody>\n",
       "\t<tr><th scope=row>INPC_anual</th><td>0.08364372</td><td>0.01      </td></tr>\n",
       "\t<tr><th scope=row>CETES_28</th><td>0.12449856</td><td>0.01      </td></tr>\n",
       "</tbody>\n",
       "</table>\n"
      ],
      "text/latex": [
       "\\begin{tabular}{r|ll}\n",
       "  & lvl & fd\\\\\n",
       "\\hline\n",
       "\tINPC\\_anual & 0.08364372 & 0.01      \\\\\n",
       "\tCETES\\_28 & 0.12449856 & 0.01      \\\\\n",
       "\\end{tabular}\n"
      ],
      "text/markdown": [
       "\n",
       "| <!--/--> | lvl | fd | \n",
       "|---|---|\n",
       "| INPC_anual | 0.08364372 | 0.01       | \n",
       "| CETES_28 | 0.12449856 | 0.01       | \n",
       "\n",
       "\n"
      ],
      "text/plain": [
       "           lvl        fd  \n",
       "INPC_anual 0.08364372 0.01\n",
       "CETES_28   0.12449856 0.01"
      ]
     },
     "metadata": {},
     "output_type": "display_data"
    },
    {
     "data": {
      "text/html": [
       "<table>\n",
       "<thead><tr><th></th><th scope=col>lvl</th><th scope=col>fd</th></tr></thead>\n",
       "<tbody>\n",
       "\t<tr><th scope=row>INPC_anual</th><td>0.01</td><td>0.01</td></tr>\n",
       "\t<tr><th scope=row>CETES_28</th><td>0.01</td><td>0.01</td></tr>\n",
       "</tbody>\n",
       "</table>\n"
      ],
      "text/latex": [
       "\\begin{tabular}{r|ll}\n",
       "  & lvl & fd\\\\\n",
       "\\hline\n",
       "\tINPC\\_anual & 0.01 & 0.01\\\\\n",
       "\tCETES\\_28 & 0.01 & 0.01\\\\\n",
       "\\end{tabular}\n"
      ],
      "text/markdown": [
       "\n",
       "| <!--/--> | lvl | fd | \n",
       "|---|---|\n",
       "| INPC_anual | 0.01 | 0.01 | \n",
       "| CETES_28 | 0.01 | 0.01 | \n",
       "\n",
       "\n"
      ],
      "text/plain": [
       "           lvl  fd  \n",
       "INPC_anual 0.01 0.01\n",
       "CETES_28   0.01 0.01"
      ]
     },
     "metadata": {},
     "output_type": "display_data"
    }
   ],
   "source": [
    "inf1_12<- diff(log(inf1),12)\n",
    "#ADF test from {functions.r} developed by @drCorona \n",
    "adf_mat_12<- matrix (0, ncol(inf1_12),2)\n",
    "rownames(adf_mat_12)<- colnames(inf1_12)\n",
    "colnames(adf_mat_12)<- c(\"lvl\",\"fd\")\n",
    "for(i in 1: ncol(inf1_12)){\n",
    "  adf_mat_12[i,\"lvl\"]<-adf(inf1_12[,i], \"none\")$p.value\n",
    "  adf_mat_12[i,\"fd\"]<-adf(diff(inf1_12[,i]), \"none\")$p.value\n",
    "}\n",
    "adf_mat\n",
    "#Compared to\n",
    "adf_mat_12"
   ]
  },
  {
   "cell_type": "markdown",
   "metadata": {},
   "source": [
    "# SUCCESS Now we have an stationary and cointegrated series"
   ]
  },
  {
   "cell_type": "code",
   "execution_count": 426,
   "metadata": {
    "scrolled": false
   },
   "outputs": [
    {
     "data": {
      "image/png": "[encoded data removed]",
      "text/plain": [
       "plot without title"
      ]
     },
     "metadata": {},
     "output_type": "display_data"
    },
    {
     "data": {
      "image/png": "[encoded data removed]",
      "text/plain": [
       "plot without title"
      ]
     },
     "metadata": {},
     "output_type": "display_data"
    }
   ],
   "source": [
    "ts.plot(scale(inf1_12), col=c(2,rep(3,ncol(inf1_12)-1)), lwd=c(4,rep(2, ncol(inf1_12)-1)))\n",
    "legend(\"top\", colnames(inf1_12), col = c(2:3), lty = 1,lwd=c(4,rep(2, ncol(inf1_12)-1)))\n",
    "\n",
    "pairs(inf1_12, col=c(2,rep(3,ncol(inf1_12)-1)))"
   ]
  },
  {
   "cell_type": "markdown",
   "metadata": {},
   "source": [
    "# Model Estimation\n",
    "Let's estimate the VAR Model, but first identify models lag order with selection criteria of AIC, HQ and SC.\n",
    "According to the results, we estimate the VAR model as varINF "
   ]
  },
  {
   "cell_type": "code",
   "execution_count": 427,
   "metadata": {
    "scrolled": true
   },
   "outputs": [
    {
     "data": {
      "text/html": [
       "<strong>HQ(n):</strong> 10"
      ],
      "text/latex": [
       "\\textbf{HQ(n):} 10"
      ],
      "text/markdown": [
       "**HQ(n):** 10"
      ],
      "text/plain": [
       "HQ(n) \n",
       "   10 "
      ]
     },
     "metadata": {},
     "output_type": "display_data"
    },
    {
     "data": {
      "text/html": [
       "<strong>AIC(n):</strong> 10"
      ],
      "text/latex": [
       "\\textbf{AIC(n):} 10"
      ],
      "text/markdown": [
       "**AIC(n):** 10"
      ],
      "text/plain": [
       "AIC(n) \n",
       "    10 "
      ]
     },
     "metadata": {},
     "output_type": "display_data"
    },
    {
     "data": {
      "text/html": [
       "<strong>SC(n):</strong> 2"
      ],
      "text/latex": [
       "\\textbf{SC(n):} 2"
      ],
      "text/markdown": [
       "**SC(n):** 2"
      ],
      "text/plain": [
       "SC(n) \n",
       "    2 "
      ]
     },
     "metadata": {},
     "output_type": "display_data"
    }
   ],
   "source": [
    "p <- VARselect(inf1_12,lag.max=12, type = \"const\", season=12)$selection[\"HQ(n)\"]\n",
    "p\n",
    "p1 <- VARselect(inf1_12,lag.max=12, type = \"const\", season=12)$selection[\"AIC(n)\"]\n",
    "p1\n",
    "p2 <- VARselect(inf1_12,lag.max=12, type = \"const\", season=12)$selection[\"SC(n)\"]\n",
    "p2"
   ]
  },
  {
   "cell_type": "code",
   "execution_count": 428,
   "metadata": {
    "scrolled": false
   },
   "outputs": [
    {
     "data": {
      "text/plain": [
       "\n",
       "VAR Estimation Results:\n",
       "========================= \n",
       "Endogenous variables: INPC_anual, CETES_28 \n",
       "Deterministic variables: const \n",
       "Sample size: 218 \n",
       "Log Likelihood: 347.645 \n",
       "Roots of the characteristic polynomial:\n",
       "0.9265 0.629 0.629 0.09608\n",
       "Call:\n",
       "VAR(y = inf1_12, p = p2, type = \"const\", season = 12L)\n",
       "\n",
       "\n",
       "Estimation results for equation INPC_anual: \n",
       "=========================================== \n",
       "INPC_anual = INPC_anual.l1 + CETES_28.l1 + INPC_anual.l2 + CETES_28.l2 + const + sd1 + sd2 + sd3 + sd4 + sd5 + sd6 + sd7 + sd8 + sd9 + sd10 + sd11 \n",
       "\n",
       "                Estimate Std. Error t value Pr(>|t|)    \n",
       "INPC_anual.l1  1.2285796  0.0647331  18.979  < 2e-16 ***\n",
       "CETES_28.l1    0.1766375  0.0823500   2.145   0.0332 *  \n",
       "INPC_anual.l2 -0.3885102  0.0640704  -6.064 6.44e-09 ***\n",
       "CETES_28.l2   -0.0908551  0.0831065  -1.093   0.2756    \n",
       "const         -0.0014239  0.0084073  -0.169   0.8657    \n",
       "sd1           -0.0025579  0.0409841  -0.062   0.9503    \n",
       "sd2            0.0002900  0.0409797   0.007   0.9944    \n",
       "sd3           -0.0012868  0.0404437  -0.032   0.9747    \n",
       "sd4           -0.0002132  0.0404561  -0.005   0.9958    \n",
       "sd5           -0.0021566  0.0409868  -0.053   0.9581    \n",
       "sd6           -0.0014630  0.0409825  -0.036   0.9716    \n",
       "sd7            0.0002600  0.0409812   0.006   0.9949    \n",
       "sd8           -0.0040104  0.0409933  -0.098   0.9222    \n",
       "sd9            0.0006093  0.0409808   0.015   0.9882    \n",
       "sd10          -0.0047981  0.0409824  -0.117   0.9069    \n",
       "sd11          -0.0028406  0.0409798  -0.069   0.9448    \n",
       "---\n",
       "Signif. codes:  0 '***' 0.001 '**' 0.01 '*' 0.05 '.' 0.1 ' ' 1\n",
       "\n",
       "\n",
       "Residual standard error: 0.1229 on 202 degrees of freedom\n",
       "Multiple R-Squared: 0.8693,\tAdjusted R-squared: 0.8596 \n",
       "F-statistic: 89.59 on 15 and 202 DF,  p-value: < 2.2e-16 \n",
       "\n",
       "\n",
       "Estimation results for equation CETES_28: \n",
       "========================================= \n",
       "CETES_28 = INPC_anual.l1 + CETES_28.l1 + INPC_anual.l2 + CETES_28.l2 + const + sd1 + sd2 + sd3 + sd4 + sd5 + sd6 + sd7 + sd8 + sd9 + sd10 + sd11 \n",
       "\n",
       "               Estimate Std. Error t value Pr(>|t|)    \n",
       "INPC_anual.l1  0.076919   0.055033   1.398    0.164    \n",
       "CETES_28.l1    1.038708   0.070010  14.837   <2e-16 ***\n",
       "INPC_anual.l2 -0.067541   0.054469  -1.240    0.216    \n",
       "CETES_28.l2   -0.106460   0.070653  -1.507    0.133    \n",
       "const         -0.002458   0.007147  -0.344    0.731    \n",
       "sd1           -0.006910   0.034843  -0.198    0.843    \n",
       "sd2           -0.001668   0.034839  -0.048    0.962    \n",
       "sd3            0.005526   0.034383   0.161    0.872    \n",
       "sd4           -0.002097   0.034394  -0.061    0.951    \n",
       "sd5           -0.007533   0.034845  -0.216    0.829    \n",
       "sd6           -0.006797   0.034841  -0.195    0.846    \n",
       "sd7            0.005043   0.034840   0.145    0.885    \n",
       "sd8           -0.009547   0.034850  -0.274    0.784    \n",
       "sd9           -0.002229   0.034840  -0.064    0.949    \n",
       "sd10          -0.006281   0.034841  -0.180    0.857    \n",
       "sd11          -0.007442   0.034839  -0.214    0.831    \n",
       "---\n",
       "Signif. codes:  0 '***' 0.001 '**' 0.01 '*' 0.05 '.' 0.1 ' ' 1\n",
       "\n",
       "\n",
       "Residual standard error: 0.1045 on 202 degrees of freedom\n",
       "Multiple R-Squared: 0.8954,\tAdjusted R-squared: 0.8877 \n",
       "F-statistic: 115.3 on 15 and 202 DF,  p-value: < 2.2e-16 \n",
       "\n",
       "\n",
       "\n",
       "Covariance matrix of residuals:\n",
       "           INPC_anual  CETES_28\n",
       "INPC_anual  0.0151138 0.0007836\n",
       "CETES_28    0.0007836 0.0109236\n",
       "\n",
       "Correlation matrix of residuals:\n",
       "           INPC_anual CETES_28\n",
       "INPC_anual    1.00000  0.06098\n",
       "CETES_28      0.06098  1.00000\n",
       "\n"
      ]
     },
     "metadata": {},
     "output_type": "display_data"
    }
   ],
   "source": [
    "#Chosen criteria: SC\n",
    "#Estimate VAR\n",
    "varINF <- VAR(inf1_12, p = p2, type = \"const\", season = 12)\n",
    "\n",
    "#VAR summary\n",
    "summary(varINF)"
   ]
  },
  {
   "cell_type": "markdown",
   "metadata": {},
   "source": [
    "The Roots of the Characteristic polynomial tells us the unitary roots of the models. We've notice that are not above the unity, which is good and they decrease rapidly, wich is also a good signal.\n",
    "Both linear regressions of Inflation and Treasury bonds are R² is 0.85 and 0.88 respectively with both a confidence interval of 99%\n",
    "This is very good news to confirm their economic relation."
   ]
  },
  {
   "cell_type": "markdown",
   "metadata": {},
   "source": [
    "# Model Diagnostic Checking\n",
    "First we make a test on residuals lookinf for p-values < 0.05\n",
    "Then we test for Granger's causality"
   ]
  },
  {
   "cell_type": "code",
   "execution_count": 429,
   "metadata": {
    "scrolled": true
   },
   "outputs": [
    {
     "data": {
      "text/plain": [
       "\n",
       "\tPortmanteau Test (asymptotic)\n",
       "\n",
       "data:  Residuals of VAR object varINF\n",
       "Chi-squared = 234.84, df = 56, p-value < 2.2e-16\n",
       "\n",
       "$serial\n",
       "\n",
       "\tPortmanteau Test (asymptotic)\n",
       "\n",
       "data:  Residuals of VAR object varINF\n",
       "Chi-squared = 234.84, df = 56, p-value < 2.2e-16\n",
       "\n"
      ]
     },
     "metadata": {},
     "output_type": "display_data"
    },
    {
     "data": {
      "text/plain": [
       "\n",
       "\tARCH (multivariate)\n",
       "\n",
       "data:  Residuals of VAR object varINF\n",
       "Chi-squared = 79.147, df = 45, p-value = 0.001252\n",
       "\n",
       "$arch.mul\n",
       "\n",
       "\tARCH (multivariate)\n",
       "\n",
       "data:  Residuals of VAR object varINF\n",
       "Chi-squared = 79.147, df = 45, p-value = 0.001252\n",
       "\n"
      ]
     },
     "metadata": {},
     "output_type": "display_data"
    }
   ],
   "source": [
    "# Test on residuals\n",
    "serial <- serial.test(varINF)\n",
    "arch <- arch.test(varINF)\n",
    "serial\n",
    "arch"
   ]
  },
  {
   "cell_type": "markdown",
   "metadata": {},
   "source": [
    "With a confidence level of 99% on the Pormanteau test, the hypothesis is accepted\n",
    "With a  a confidence level of 99% on the ARCH test the hypothesis is accepted"
   ]
  },
  {
   "cell_type": "code",
   "execution_count": 430,
   "metadata": {
    "scrolled": true
   },
   "outputs": [
    {
     "data": {
      "text/html": [
       "<table>\n",
       "<thead><tr><th></th><th scope=col>p.value</th></tr></thead>\n",
       "<tbody>\n",
       "\t<tr><th scope=row>INPC_anual</th><td>0.3774</td></tr>\n",
       "\t<tr><th scope=row>CETES_28</th><td>0.0070</td></tr>\n",
       "</tbody>\n",
       "</table>\n"
      ],
      "text/latex": [
       "\\begin{tabular}{r|l}\n",
       "  & p.value\\\\\n",
       "\\hline\n",
       "\tINPC\\_anual & 0.3774\\\\\n",
       "\tCETES\\_28 & 0.0070\\\\\n",
       "\\end{tabular}\n"
      ],
      "text/markdown": [
       "\n",
       "| <!--/--> | p.value | \n",
       "|---|---|\n",
       "| INPC_anual | 0.3774 | \n",
       "| CETES_28 | 0.0070 | \n",
       "\n",
       "\n"
      ],
      "text/plain": [
       "           p.value\n",
       "INPC_anual 0.3774 \n",
       "CETES_28   0.0070 "
      ]
     },
     "metadata": {},
     "output_type": "display_data"
    }
   ],
   "source": [
    "# Granger's causality test\n",
    "cau <- matrix(0, ncol(inf1_12), 1)\n",
    "colnames(cau) <- \"p.value\"\n",
    "rownames(cau) <- colnames(inf1_12)\n",
    "for(i in 1 : ncol(inf1_12))\n",
    "  cau[i,] <- causality(varINF, colnames(inf1_12)[i])$Granger$p.value\n",
    "\n",
    "cau <- round(cau, 4)\n",
    "cau"
   ]
  },
  {
   "cell_type": "markdown",
   "metadata": {},
   "source": [
    "We've found that the past of CETES_28 is significant to INCP's causality. The other causality is non relevant."
   ]
  },
  {
   "cell_type": "markdown",
   "metadata": {},
   "source": [
    "# FORECASTING\n",
    "Forecast the same number of lags=2"
   ]
  },
  {
   "cell_type": "code",
   "execution_count": 431,
   "metadata": {
    "scrolled": true
   },
   "outputs": [
    {
     "data": {
      "image/png": "[encoded data removed]",
      "text/plain": [
       "Plot with title \"Forecast of series CETES_28\""
      ]
     },
     "metadata": {},
     "output_type": "display_data"
    }
   ],
   "source": [
    "fore <- predict(varINF, n.ahead = 1)\n",
    "plot(fore)"
   ]
  },
  {
   "cell_type": "markdown",
   "metadata": {},
   "source": [
    "# Funciones respuesta impulso\n",
    "La línea verde del impulso de respuesta especifia un 0.\n",
    "La azul es la variable que sufre el Shock y tiene que converger otravez al 0. Y al corto plazo\n",
    "Las variables no aplican para explicar la inflación\n"
   ]
  },
  {
   "cell_type": "code",
   "execution_count": 432,
   "metadata": {
    "scrolled": true
   },
   "outputs": [
    {
     "data": {
      "image/png": "[encoded data removed]",
      "text/plain": [
       "Plot with title \"CETES_28->CETES_28\""
      ]
     },
     "metadata": {},
     "output_type": "display_data"
    }
   ],
   "source": [
    "irff <- irf(varINF)\n",
    "# plot\n",
    "opp <- par(mfrow = c(2, 2))\n",
    "for(j in 1 : ncol(inf1)){\n",
    "  for(i in 1 : ncol(inf1)){\n",
    "    mea <- irff$irf[[colnames(inf1)[j]]][,i]\n",
    "    li <- irff$Lower[[colnames(inf1)[j]]][,i]\n",
    "    ls <- irff$Upper[[colnames(inf1)[j]]][,i]\n",
    "    mat_irf <- cbind(mea, li, ls)\n",
    "    ts.plot(mat_irf, ylab = \"\", xlab = \"\", col = c(4, 2, 2), lty = c(1, 2, 2))\n",
    "    abline(h = 0, lty = 2, col = 3)\n",
    "    title(paste(colnames(inf1)[j], \"->\", colnames(inf1)[i], sep = \"\"))\n",
    "  }\n",
    "}\n",
    "par(opp)"
   ]
  },
  {
   "cell_type": "markdown",
   "metadata": {},
   "source": [
    "We've notice on INPC-> CETES a approximation to the convergence towards 0."
   ]
  },
  {
   "cell_type": "markdown",
   "metadata": {},
   "source": [
    "# Forecast\n",
    "Now that we've prooved we have a stationary model, we've to forecast Next Month Inflation increase"
   ]
  },
  {
   "cell_type": "code",
   "execution_count": 433,
   "metadata": {
    "scrolled": true
   },
   "outputs": [
    {
     "data": {
      "text/html": [
       "<strong>$INPC_anual</strong> = <table>\n",
       "<thead><tr><th></th><th scope=col>fcst</th><th scope=col>lower</th><th scope=col>upper</th><th scope=col>CI</th></tr></thead>\n",
       "<tbody>\n",
       "\t<tr><th scope=row>INPC_anual.fcst</th><td>0.05029077</td><td>-0.1906638</td><td>0.2912453 </td><td>0.2409546 </td></tr>\n",
       "</tbody>\n",
       "</table>\n"
      ],
      "text/latex": [
       "\\textbf{\\$INPC\\_anual} = \\begin{tabular}{r|llll}\n",
       "  & fcst & lower & upper & CI\\\\\n",
       "\\hline\n",
       "\tINPC\\_anual.fcst & 0.05029077 & -0.1906638 & 0.2912453  & 0.2409546 \\\\\n",
       "\\end{tabular}\n"
      ],
      "text/markdown": [
       "**$INPC_anual** = \n",
       "| <!--/--> | fcst | lower | upper | CI | \n",
       "|---|\n",
       "| INPC_anual.fcst | 0.05029077 | -0.1906638 | 0.2912453  | 0.2409546  | \n",
       "\n",
       "\n"
      ],
      "text/plain": [
       "$INPC_anual\n",
       "                      fcst      lower     upper        CI\n",
       "INPC_anual.fcst 0.05029077 -0.1906638 0.2912453 0.2409546\n"
      ]
     },
     "metadata": {},
     "output_type": "display_data"
    }
   ],
   "source": [
    "fore$fcst[1:0]"
   ]
  },
  {
   "cell_type": "markdown",
   "metadata": {},
   "source": [
    "# What's May's inflation estimate according to our VAR Model?"
   ]
  },
  {
   "cell_type": "code",
   "execution_count": 434,
   "metadata": {
    "scrolled": true
   },
   "outputs": [
    {
     "name": "stdout",
     "output_type": "stream",
     "text": [
      "[1] May's inflation will be of 4.46029077\n"
     ]
    }
   ],
   "source": [
    "april<-last(inf1)\n",
    "print(paste(\"May's inflation will be of\", april[1:0]+ 0.05029077), \n",
    "      quote = FALSE)"
   ]
  }
 ],
 "metadata": {
  "kernelspec": {
   "display_name": "R",
   "language": "R",
   "name": "ir"
  },
  "language_info": {
   "codemirror_mode": "r",
   "file_extension": ".r",
   "mimetype": "text/x-r-source",
   "name": "R",
   "pygments_lexer": "r",
   "version": "3.5.1"
  }
 },
 "nbformat": 4,
 "nbformat_minor": 2
}
